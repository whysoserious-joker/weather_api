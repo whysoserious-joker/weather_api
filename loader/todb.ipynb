{
 "cells": [
  {
   "cell_type": "code",
   "execution_count": 13,
   "metadata": {},
   "outputs": [],
   "source": [
    "import pandas as pd\n",
    "import os\n",
    "# Ignore all warnings\n",
    "warnings.filterwarnings(\"ignore\")\n",
    "pd.set_option('display.max_columns', None)\n",
    "pd.set_option('display.expand_frame_repr', False)"
   ]
  },
  {
   "cell_type": "code",
   "execution_count": 1,
   "metadata": {},
   "outputs": [],
   "source": [
    "from loader import loader\n",
    "ld=loader()"
   ]
  },
  {
   "cell_type": "code",
   "execution_count": 10,
   "metadata": {},
   "outputs": [
    {
     "data": {
      "text/plain": [
       "['2022']"
      ]
     },
     "execution_count": 10,
     "metadata": {},
     "output_type": "execute_result"
    }
   ],
   "source": [
    "path='csv'\n",
    "period='hourly'\n",
    "pp=os.path.join(path,period)\n",
    "years=os.listdir(pp)\n",
    "years"
   ]
  },
  {
   "cell_type": "code",
   "execution_count": 15,
   "metadata": {},
   "outputs": [
    {
     "name": "stdout",
     "output_type": "stream",
     "text": [
      "Loading year: 2022\n",
      "loading file: 72616354770.csv\n",
      "       STATION                 DATE  SOURCE  LATITUDE  LONGITUDE  ELEVATION                                           NAME REPORT_TYPE CALL_SIGN QUALITY_CONTROL             WND          CIG           VIS      TMP      DEW      SLP          AA1          AA2  AA3  AB1  AD1  AE1  AH1  AH2  AH3  AH4  AH5  AH6  AI1  AI2  AI3  AI4  AI5  AI6  AT1  AT2  AT3  AT4  AT5  AT6             AU1  AU2  AU3   AW1  AW2  AW3  AW4                 GA1  GA2  GA3                GD1  GD2  GD3                     GE1                                  GF1  KA1  KA2  KB1  KB2  KB3  KC1  KC2  KD1  KD2  KE1              MA1               MD1  MG1  MH1  MK1  MV1  MW1  OC1  OD1  OE1  OE2  OE3  WA1                                                REM  EQD\n",
      "0  72616354770  2022-01-01T00:52:00       7  42.80667  -72.00126      308.4  JAFFREY MUNICIPAL AIRPORT SILVER RANCH, NH US       FM-15     KAFN             V020  999,9,C,0000,5  00061,5,W,N  000805,5,N,5  +0028,5  +0022,5  10147,5  01,0000,2,5          NaN  NaN  NaN  NaN  NaN  NaN  NaN  NaN  NaN  NaN  NaN  NaN  NaN  NaN  NaN  NaN  NaN  NaN  NaN  NaN  NaN  NaN  NaN  0,0,00,2,0,1,5  NaN  NaN  30,5  NaN  NaN  NaN  09,5,+00061,5,99,9  NaN  NaN  5,99,1,+00061,5,9  NaN  NaN  9,AGL   ,+99999,+99999  09,99,1,99,9,99,9,00061,1,99,9,99,9  NaN  NaN  NaN  NaN  NaN  NaN  NaN  NaN  NaN  NaN  10132,5,09757,5               NaN  NaN  NaN  NaN  NaN  NaN  NaN  NaN  NaN  NaN  NaN  NaN  MET11912/31/21 19:52:03 METAR KAFN 010052Z 000...  NaN\n",
      "1  72616354770  2022-01-01T01:52:00       7  42.80667  -72.00126      308.4  JAFFREY MUNICIPAL AIRPORT SILVER RANCH, NH US       FM-15     KAFN             V020  999,9,C,0000,5  00091,5,W,N  000805,5,N,5  +0028,5  +0022,5  10145,5  01,0000,9,5          NaN  NaN  NaN  NaN  NaN  NaN  NaN  NaN  NaN  NaN  NaN  NaN  NaN  NaN  NaN  NaN  NaN  NaN  NaN  NaN  NaN  NaN  NaN  0,0,00,2,0,1,5  NaN  NaN  30,5  NaN  NaN  NaN  09,5,+00091,5,99,9  NaN  NaN  5,99,1,+00091,5,9  NaN  NaN  9,AGL   ,+99999,+99999  09,99,1,99,9,99,9,00091,1,99,9,99,9  NaN  NaN  NaN  NaN  NaN  NaN  NaN  NaN  NaN  NaN  10132,5,09757,5               NaN  NaN  NaN  NaN  NaN  NaN  NaN  NaN  NaN  NaN  NaN  NaN  MET09612/31/21 20:52:03 METAR KAFN 010152Z 000...  NaN\n",
      "2  72616354770  2022-01-01T02:52:00       7  42.80667  -72.00126      308.4  JAFFREY MUNICIPAL AIRPORT SILVER RANCH, NH US       FM-15     KAFN             V020  999,9,C,0000,5  00061,5,W,N  000805,5,N,5  +0028,5  +0017,5  10141,5  01,0000,9,5  03,0000,2,1  NaN  NaN  NaN  NaN  NaN  NaN  NaN  NaN  NaN  NaN  NaN  NaN  NaN  NaN  NaN  NaN  NaN  NaN  NaN  NaN  NaN  NaN  0,0,00,2,0,1,5  NaN  NaN  30,5  NaN  NaN  NaN  09,5,+00061,5,99,9  NaN  NaN  5,99,1,+00061,5,9  NaN  NaN  9,AGL   ,+99999,+99999  09,99,1,99,9,99,9,00061,1,99,9,99,9  NaN  NaN  NaN  NaN  NaN  NaN  NaN  NaN  NaN  NaN  10129,5,09753,5  8,9,004,9,+999,9  NaN  NaN  NaN  NaN  NaN  NaN  NaN  NaN  NaN  NaN  NaN  MET10812/31/21 21:52:03 METAR KAFN 010252Z 000...  NaN\n",
      "3  72616354770  2022-01-01T03:28:00       7  42.80667  -72.00126      308.4  JAFFREY MUNICIPAL AIRPORT SILVER RANCH, NH US       FM-16     KAFN             V020  999,9,C,0000,5  00061,5,W,N  000402,5,N,5  +0028,5  +0022,5  99999,9          NaN          NaN  NaN  NaN  NaN  NaN  NaN  NaN  NaN  NaN  NaN  NaN  NaN  NaN  NaN  NaN  NaN  NaN  NaN  NaN  NaN  NaN  NaN  NaN  0,0,00,2,0,1,5  NaN  NaN  30,5  NaN  NaN  NaN  09,5,+00061,5,99,9  NaN  NaN  5,99,1,+00061,5,9  NaN  NaN  9,AGL   ,+99999,+99999  09,99,1,99,9,99,9,00061,1,99,9,99,9  NaN  NaN  NaN  NaN  NaN  NaN  NaN  NaN  NaN  NaN  10129,5,09753,5               NaN  NaN  NaN  NaN  NaN  NaN  NaN  NaN  NaN  NaN  NaN  NaN  MET08912/31/21 22:28:03 SPECI KAFN 010328Z 000...  NaN\n",
      "4  72616354770  2022-01-01T03:52:00       7  42.80667  -72.00126      308.4  JAFFREY MUNICIPAL AIRPORT SILVER RANCH, NH US       FM-15     KAFN             V020  999,9,C,0000,5  00061,5,W,N  000402,5,N,5  +0028,5  +0022,5  10143,5  01,0000,9,5          NaN  NaN  NaN  NaN  NaN  NaN  NaN  NaN  NaN  NaN  NaN  NaN  NaN  NaN  NaN  NaN  NaN  NaN  NaN  NaN  NaN  NaN  NaN  0,0,00,2,0,1,5  NaN  NaN  30,5  NaN  NaN  NaN  09,5,+00061,5,99,9  NaN  NaN  5,99,1,+00061,5,9  NaN  NaN  9,AGL   ,+99999,+99999  09,99,1,99,9,99,9,00061,1,99,9,99,9  NaN  NaN  NaN  NaN  NaN  NaN  NaN  NaN  NaN  NaN  10129,5,09753,5               NaN  NaN  NaN  NaN  NaN  NaN  NaN  NaN  NaN  NaN  NaN  NaN  MET09612/31/21 22:52:03 METAR KAFN 010352Z 000...  NaN\n"
     ]
    }
   ],
   "source": [
    "required_cols=['STATION',\n",
    "               'DATE',\n",
    "               'LATITUDE',\n",
    "               'LONGITUDE',\n",
    "               'NAME',\n",
    "               'WND',\n",
    "               'CIG',\n",
    "               'VIS',\n",
    "               'TMP',\n",
    "               'DEW',\n",
    "               'SLP',\n",
    "               'KA1',\n",
    "               'KA2',\n",
    "               'MA1',\n",
    "               'MD1',\n",
    "               'OC1',\n",
    "               'OD1']\n",
    "\n",
    "for year in years:\n",
    "    print(\"Loading year:\",year)\n",
    "    yp=os.path.join(pp,year)\n",
    "    for file in os.listdir(yp):\n",
    "        print('loading file:',file)\n",
    "        fp=os.path.join(yp,file)\n",
    "        df=pd.read_csv(fp)\n",
    "        \n",
    "        break\n"
   ]
  },
  {
   "cell_type": "code",
   "execution_count": null,
   "metadata": {},
   "outputs": [],
   "source": []
  }
 ],
 "metadata": {
  "kernelspec": {
   "display_name": "Python 3",
   "language": "python",
   "name": "python3"
  },
  "language_info": {
   "codemirror_mode": {
    "name": "ipython",
    "version": 3
   },
   "file_extension": ".py",
   "mimetype": "text/x-python",
   "name": "python",
   "nbconvert_exporter": "python",
   "pygments_lexer": "ipython3",
   "version": "3.9.6"
  },
  "orig_nbformat": 4
 },
 "nbformat": 4,
 "nbformat_minor": 2
}
